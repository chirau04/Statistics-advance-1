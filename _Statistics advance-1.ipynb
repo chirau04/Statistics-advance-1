{
 "cells": [
  {
   "cell_type": "markdown",
   "id": "5be1869f-3aee-4d80-b604-d594c73fd53f",
   "metadata": {},
   "source": [
    "The Probability Density Function (PDF) is a function used in probability theory to describe the likelihood of a continuous random variable taking on a specific value. It gives the probability density at each point along the range of the variable, and the total area under the curve equals 1. In mathematical terms, for a random variable \\( X \\), the PDF is denoted as \\( f(x) \\), and it satisfies two conditions: it's non-negative for all \\( x \\), and the integral of \\( f(x) \\) over the entire range of \\( X \\) equals 1."
   ]
  },
  {
   "cell_type": "markdown",
   "id": "e4ec3b2b-c9ec-4980-9304-0266618a7ef6",
   "metadata": {},
   "source": [
    "There are several types of probability distributions, including:\n",
    "\n",
    "1. Discrete distributions:\n",
    "   - Bernoulli distribution\n",
    "   - Binomial distribution\n",
    "   - Poisson distribution\n",
    "   - Geometric distribution\n",
    "   - Hypergeometric distribution\n",
    "\n",
    "2. Continuous distributions:\n",
    "   - Normal (Gaussian) distribution\n",
    "   - Uniform distribution\n",
    "   - Exponential distribution\n",
    "   - Beta distribution\n",
    "   - Gamma distribution\n",
    "   - Chi-square distribution\n",
    "   - Student's t-distribution\n",
    "\n",
    "These distributions are used to model different types of random variables and are fundamental in various areas of statistics and probability theory."
   ]
  },
  {
   "cell_type": "code",
   "execution_count": 2,
   "id": "327c2b69-551a-42ec-896a-eadc1c1b8fd6",
   "metadata": {},
   "outputs": [
    {
     "name": "stdout",
     "output_type": "stream",
     "text": [
      "PDF at x = 1 : 0.24197072451914337\n"
     ]
    }
   ],
   "source": [
    "import math\n",
    "\n",
    "def normal_pdf(x, mean, std_dev):\n",
    "    \"\"\"\n",
    "    Calculate the probability density function (PDF) of a normal distribution at a given point.\n",
    "    \n",
    "    Parameters:\n",
    "        x (float): The point at which to evaluate the PDF.\n",
    "        mean (float): The mean of the normal distribution.\n",
    "        std_dev (float): The standard deviation of the normal distribution.\n",
    "    \n",
    "    Returns:\n",
    "        float: The probability density at the given point.\n",
    "    \"\"\"\n",
    "    coefficient = 1 / (std_dev * math.sqrt(2 * math.pi))\n",
    "    exponent = -0.5 * ((x - mean) / std_dev) ** 2\n",
    "    pdf = coefficient * math.exp(exponent)\n",
    "    return pdf\n",
    "\n",
    "# Example usage:\n",
    "mean = 0\n",
    "std_dev = 1\n",
    "x = 1\n",
    "pdf_at_x = normal_pdf(x, mean, std_dev)\n",
    "print(\"PDF at x =\", x, \":\", pdf_at_x)"
   ]
  },
  {
   "cell_type": "markdown",
   "id": "e7dc90b8-8c2b-4ab7-b8b1-08b02c2f7676",
   "metadata": {},
   "source": [
    "The properties of a binomial distribution include:\n",
    "\n",
    "1. Fixed number of trials: The number of trials, denoted as \\( n \\), is fixed in advance.\n",
    "2. Independent trials: Each trial is independent of the others.\n",
    "3. Two outcomes: Each trial has only two possible outcomes, often labeled as success (S) and failure (F).\n",
    "4. Constant probability of success: The probability of success, denoted as \\( p \\), remains constant from trial to trial.\n",
    "5. Discrete distribution: The number of successes in the fixed number of trials is a discrete random variable.\n",
    "\n",
    "Examples where binomial distribution can be applied:\n",
    "\n",
    "1. Coin flipping: When flipping a fair coin multiple times, with each flip having a fixed probability of either landing heads or tails, the number of heads obtained follows a binomial distribution.\n",
    "2. Medical trials: In a clinical trial where patients are either given a treatment (success) or a placebo (failure), and the outcome is measured as the number of patients who respond positively to the treatment within a fixed number of trials, the distribution of responders can be modeled using a binomial distribution."
   ]
  },
  {
   "cell_type": "code",
   "execution_count": 3,
   "id": "818dbdb7-f556-4e52-8cd7-fabbc2f22317",
   "metadata": {},
   "outputs": [
    {
     "data": {
      "image/png": "[encoded data removed]",
      "text/plain": [
       "<Figure size 640x480 with 1 Axes>"
      ]
     },
     "metadata": {},
     "output_type": "display_data"
    }
   ],
   "source": [
    "import numpy as np\n",
    "import matplotlib.pyplot as plt\n",
    "\n",
    "# Generate random sample from binomial distribution\n",
    "sample_size = 1000\n",
    "probability_of_success = 0.4\n",
    "random_sample = np.random.binomial(1, probability_of_success, size=sample_size)\n",
    "\n",
    "# Plot histogram\n",
    "plt.hist(random_sample, bins=[0, 0.5, 1], edgecolor='black')\n",
    "plt.title('Histogram of Binomial Distribution')\n",
    "plt.xlabel('Outcome')\n",
    "plt.ylabel('Frequency')\n",
    "plt.xticks([0, 1], ['Failure', 'Success'])\n",
    "plt.show()"
   ]
  },
  {
   "cell_type": "code",
   "execution_count": 5,
   "id": "57360f98-afd6-43c7-8cfc-a8bf3161747c",
   "metadata": {},
   "outputs": [
    {
     "name": "stdout",
     "output_type": "stream",
     "text": [
      "CDF at k = 2 : 0.42319008112684353\n"
     ]
    }
   ],
   "source": [
    "import math\n",
    "\n",
    "def poisson_cdf(k, mean):\n",
    "    \"\"\"\n",
    "    Calculate the cumulative distribution function (CDF) of a Poisson distribution at a given point.\n",
    "    \n",
    "    Parameters:\n",
    "        k (int): The point at which to evaluate the CDF.\n",
    "        mean (float): The mean of the Poisson distribution.\n",
    "    \n",
    "    Returns:\n",
    "        float: The cumulative probability up to the given point.\n",
    "    \"\"\"\n",
    "    cdf = 0\n",
    "    for i in range(k + 1):\n",
    "        cdf += (mean ** i) * math.exp(-mean) / math.factorial(i)\n",
    "    return cdf\n",
    "\n",
    "# Example usage:\n",
    "mean = 3\n",
    "k = 2\n",
    "cdf_at_k = poisson_cdf(k, mean)\n",
    "print(\"CDF at k =\", k, \":\", cdf_at_k)"
   ]
  },
  {
   "cell_type": "markdown",
   "id": "9b511989-479f-4f69-b0da-21b391a5c5f0",
   "metadata": {},
   "source": [
    "The binomial distribution and the Poisson distribution are both used to model the number of occurrences of events, but they are applicable in different situations and have distinct characteristics:\n",
    "\n",
    "1. Nature of Events:\n",
    "   - Binomial Distribution: Used when there are a fixed number of independent trials, each with two possible outcomes (success or failure).\n",
    "   - Poisson Distribution: Used when events occur randomly in a fixed interval of time or space, and the number of events that occur in a given interval is of interest.\n",
    "\n",
    "2. Number of Trials:\n",
    "   - Binomial Distribution: Requires a fixed number of trials (denoted as \\( n \\)) to be specified in advance.\n",
    "   - Poisson Distribution: Does not require a fixed number of trials; instead, it models the number of events occurring in a fixed interval.\n",
    "\n",
    "3. Probability of Success:\n",
    "   - Binomial Distribution: Requires a constant probability of success (denoted as \\( p \\)) for each trial.\n",
    "   - Poisson Distribution: Does not explicitly involve a probability of success; it is solely determined by the rate parameter \\( \\lambda \\), which represents the average number of events occurring in the fixed interval.\n",
    "\n",
    "4. Distribution Shape:\n",
    "   - Binomial Distribution: Often exhibits a symmetric or skewed shape, depending on the values of \\( n \\) and \\( p \\).\n",
    "   - Poisson Distribution: Typically exhibits a right-skewed shape, with the mode (peak) occurring at \\( \\lambda \\).\n",
    "\n",
    "5. Limiting Behavior:\n",
    "   - Binomial Distribution: As the number of trials (\\( n \\)) approaches infinity and the probability of success (\\( p \\)) approaches zero in such a way that \\( np \\) remains constant, the binomial distribution approaches the Poisson distribution.\n",
    "   - Poisson Distribution: Can be seen as a limiting case of the binomial distribution when the number of trials becomes large and the probability of success becomes small, such that the mean (\\( np \\)) remains constant.\n",
    "\n",
    "In summary, while both distributions involve counting the number of events, they are used in different contexts and have distinct characteristics regarding the number of trials, nature of events, and distribution shape."
   ]
  },
  {
   "cell_type": "code",
   "execution_count": 6,
   "id": "9d390b1b-68a2-4cb0-8d51-d7c052584cfc",
   "metadata": {},
   "outputs": [
    {
     "name": "stdout",
     "output_type": "stream",
     "text": [
      "Sample Mean: 5.059\n",
      "Sample Variance: 5.673519000000001\n"
     ]
    }
   ],
   "source": [
    "import numpy as np\n",
    "\n",
    "# Generate random sample from Poisson distribution\n",
    "sample_size = 1000\n",
    "mean = 5\n",
    "random_sample = np.random.poisson(mean, size=sample_size)\n",
    "\n",
    "# Calculate sample mean and variance\n",
    "sample_mean = np.mean(random_sample)\n",
    "sample_variance = np.var(random_sample)\n",
    "\n",
    "print(\"Sample Mean:\", sample_mean)\n",
    "print(\"Sample Variance:\", sample_variance)"
   ]
  },
  {
   "cell_type": "markdown",
   "id": "c880a8ea-6092-47e7-a663-32a2e0f9661f",
   "metadata": {},
   "source": [
    "In both binomial and Poisson distributions, the mean (\\( \\mu \\)) and variance (\\( \\sigma^2 \\)) are related, but the exact relationship differs due to the nature of the distributions:\n",
    "\n",
    "Binomial Distribution:\n",
    "- Mean (\\( \\mu \\)): \\( n \\times p \\), where \\( n \\) is the number of trials and \\( p \\) is the probability of success.\n",
    "- Variance (\\( \\sigma^2 \\)): \\( n \\times p \\times (1 - p) \\).\n",
    "\n",
    "In the binomial distribution, the variance increases as the probability of success deviates from 0.5. When \\( p = 0.5 \\), the variance is maximized. As \\( p \\) moves away from 0.5 towards 0 or 1, the variance decreases.\n",
    "\n",
    "Poisson Distribution:\n",
    "- Mean (\\( \\mu \\)) and Variance (\\( \\sigma^2 \\)): Both are equal and represented by the parameter \\( \\lambda \\), which is the average rate of occurrence of events in a fixed interval.\n",
    "\n",
    "In the Poisson distribution, the mean and variance are always equal. This is a characteristic unique to the Poisson distribution and is a consequence of its definition. \n",
    "\n",
    "In summary, in the binomial distribution, the variance depends on both the number of trials and the probability of success, while in the Poisson distribution, the variance is solely determined by the mean parameter \\( \\lambda \\), and the mean and variance are equal."
   ]
  },
  {
   "cell_type": "code",
   "execution_count": null,
   "id": "81809848-94d9-42c1-98f3-d9b50db5963f",
   "metadata": {},
   "outputs": [],
   "source": []
  }
 ],
 "metadata": {
  "kernelspec": {
   "display_name": "Python 3 (ipykernel)",
   "language": "python",
   "name": "python3"
  },
  "language_info": {
   "codemirror_mode": {
    "name": "ipython",
    "version": 3
   },
   "file_extension": ".py",
   "mimetype": "text/x-python",
   "name": "python",
   "nbconvert_exporter": "python",
   "pygments_lexer": "ipython3",
   "version": "3.10.8"
  }
 },
 "nbformat": 4,
 "nbformat_minor": 5
}
